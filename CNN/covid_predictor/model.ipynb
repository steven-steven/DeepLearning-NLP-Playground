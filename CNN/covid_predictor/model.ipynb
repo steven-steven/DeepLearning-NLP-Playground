{
 "cells": [
  {
   "cell_type": "markdown",
   "metadata": {},
   "source": [
    "# COVID-19 Detection System using X-Ray images"
   ]
  },
  {
   "cell_type": "code",
   "execution_count": 1,
   "metadata": {},
   "outputs": [],
   "source": [
    "from tensorflow.python.keras.preprocessing import image\n",
    "from tensorflow.python.keras.layers import *\n",
    "from tensorflow.python.keras.models import *"
   ]
  },
  {
   "cell_type": "code",
   "execution_count": 2,
   "metadata": {},
   "outputs": [
    {
     "name": "stdout",
     "output_type": "stream",
     "text": [
      "_________________________________________________________________\n",
      "Layer (type)                 Output Shape              Param #   \n",
      "=================================================================\n",
      "conv2d (Conv2D)              (None, 222, 222, 32)      896       \n",
      "_________________________________________________________________\n",
      "conv2d_1 (Conv2D)            (None, 220, 220, 64)      18496     \n",
      "_________________________________________________________________\n",
      "max_pooling2d (MaxPooling2D) (None, 110, 110, 64)      0         \n",
      "_________________________________________________________________\n",
      "dropout (Dropout)            (None, 110, 110, 64)      0         \n",
      "_________________________________________________________________\n",
      "conv2d_2 (Conv2D)            (None, 108, 108, 128)     73856     \n",
      "_________________________________________________________________\n",
      "max_pooling2d_1 (MaxPooling2 (None, 54, 54, 128)       0         \n",
      "_________________________________________________________________\n",
      "dropout_1 (Dropout)          (None, 54, 54, 128)       0         \n",
      "_________________________________________________________________\n",
      "flatten (Flatten)            (None, 373248)            0         \n",
      "_________________________________________________________________\n",
      "dense (Dense)                (None, 64)                23887936  \n",
      "_________________________________________________________________\n",
      "dropout_2 (Dropout)          (None, 64)                0         \n",
      "_________________________________________________________________\n",
      "dense_1 (Dense)              (None, 1)                 65        \n",
      "=================================================================\n",
      "Total params: 23,981,249\n",
      "Trainable params: 23,981,249\n",
      "Non-trainable params: 0\n",
      "_________________________________________________________________\n"
     ]
    }
   ],
   "source": [
    "model = Sequential()\n",
    "# relu just returns our positive value (or 0)\n",
    "model.add(Conv2D(32, kernel_size=(3,3), activation='relu', input_shape=(224,224,3) ))\n",
    "# another conv layer with 64 filters\n",
    "model.add(Conv2D(64, kernel_size=(3,3), activation='relu'))\n",
    "model.add(MaxPooling2D( pool_size=(2,2) ))\n",
    "# dropout 1/4 of all nodes\n",
    "model.add( Dropout(0.25) )\n",
    "\n",
    "model.add(Conv2D(128, kernel_size=(3,3), activation='relu'))\n",
    "model.add(MaxPooling2D( pool_size=(2,2) ))\n",
    "model.add(Dropout(0.25))\n",
    "model.add(Flatten())\n",
    "\n",
    "model.add(Dense(64, activation='relu'))\n",
    "model.add(Dropout(0.5))\n",
    "# last layer with a single node returning 0 to 1\n",
    "model.add(Dense(1, activation='sigmoid'))\n",
    "\n",
    "model.compile(loss=\"binary_crossentropy\", optimizer='adam', metrics=['accuracy'])\n",
    "\n",
    "#view the number of params our model will learn\n",
    "model.summary()"
   ]
  },
  {
   "cell_type": "code",
   "execution_count": 3,
   "metadata": {},
   "outputs": [],
   "source": [
    "# create ImageDataGenerator to load data in the right size and batches\n",
    "train_datagen = image.ImageDataGenerator(rescale=1./255, shear_range=0.2, zoom_range=0.2, horizontal_flip=True)\n",
    "test_datagen = image.ImageDataGenerator(rescale=1/.255)"
   ]
  },
  {
   "cell_type": "code",
   "execution_count": 4,
   "metadata": {},
   "outputs": [
    {
     "name": "stdout",
     "output_type": "stream",
     "text": [
      "Found 224 images belonging to 2 classes.\n",
      "Found 60 images belonging to 2 classes.\n"
     ]
    }
   ],
   "source": [
    "train_generator = train_datagen.flow_from_directory('CovidDataset/Train', target_size=(224, 224), batch_size=32, class_mode='binary')\n",
    "val_generator = test_datagen.flow_from_directory('CovidDataset/Val', target_size=(224, 224), batch_size=32, class_mode='binary')"
   ]
  },
  {
   "cell_type": "code",
   "execution_count": null,
   "metadata": {},
   "outputs": [
    {
     "name": "stdout",
     "output_type": "stream",
     "text": [
      "Epoch 1/6\n",
      "7/7 [==============================] - 396s 57s/step - loss: 1.5371 - acc: 0.6741 - val_loss: 0.9464 - val_acc: 0.9167\n",
      "Epoch 2/6\n",
      "7/7 [==============================] - 380s 54s/step - loss: 0.4560 - acc: 0.7857 - val_loss: 1.0397 - val_acc: 0.9333\n",
      "Epoch 3/6\n",
      "7/7 [==============================] - 387s 55s/step - loss: 0.3249 - acc: 0.8661 - val_loss: 1.0658 - val_acc: 0.9333\n",
      "Epoch 4/6\n",
      "7/7 [==============================] - 401s 57s/step - loss: 0.2180 - acc: 0.9196 - val_loss: 0.8030 - val_acc: 0.9500\n",
      "Epoch 5/6\n",
      "7/7 [==============================] - 380s 54s/step - loss: 0.1293 - acc: 0.9464 - val_loss: 0.8000 - val_acc: 0.9500\n",
      "Epoch 6/6\n",
      "6/7 [========================>.....] - ETA: 49s - loss: 0.2493 - acc: 0.9115 "
     ]
    }
   ],
   "source": [
    "hist = model.fit_generator(train_generator, epochs=6, validation_data=val_generator, validation_steps=2)"
   ]
  },
  {
   "cell_type": "code",
   "execution_count": 10,
   "metadata": {},
   "outputs": [],
   "source": []
  },
  {
   "cell_type": "code",
   "execution_count": null,
   "metadata": {},
   "outputs": [],
   "source": []
  }
 ],
 "metadata": {
  "kernelspec": {
   "display_name": "Python 3",
   "language": "python",
   "name": "python3"
  },
  "language_info": {
   "codemirror_mode": {
    "name": "ipython",
    "version": 3
   },
   "file_extension": ".py",
   "mimetype": "text/x-python",
   "name": "python",
   "nbconvert_exporter": "python",
   "pygments_lexer": "ipython3",
   "version": "3.5.6"
  }
 },
 "nbformat": 4,
 "nbformat_minor": 4
}
