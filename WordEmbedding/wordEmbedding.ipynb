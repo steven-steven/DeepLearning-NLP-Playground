{
  "nbformat": 4,
  "nbformat_minor": 0,
  "metadata": {
    "colab": {
      "name": "wordEmbedding.ipynb",
      "provenance": [],
      "collapsed_sections": []
    },
    "kernelspec": {
      "name": "python3",
      "display_name": "Python 3"
    }
  },
  "cells": [
    {
      "cell_type": "markdown",
      "metadata": {
        "id": "KuWBQsHLc-8b"
      },
      "source": [
        "# Word2Vec - Similarity between 2 words\n",
        "Download the vectors, and use 'gensim' to load the word vectors and query a mapping of the word:embedding (300-D vector)"
      ]
    },
    {
      "cell_type": "code",
      "metadata": {
        "colab": {
          "base_uri": "https://localhost:8080/"
        },
        "id": "MD5WbD7ldZwj",
        "outputId": "24539124-69b0-4956-8823-b3f5c39c30ad"
      },
      "source": [
        "!wget -P /root/input/ -c \"https://s3.amazonaws.com/dl4j-distribution/GoogleNews-vectors-negative300.bin.gz\""
      ],
      "execution_count": 3,
      "outputs": [
        {
          "output_type": "stream",
          "text": [
            "--2020-12-26 02:39:26--  https://s3.amazonaws.com/dl4j-distribution/GoogleNews-vectors-negative300.bin.gz\n",
            "Resolving s3.amazonaws.com (s3.amazonaws.com)... 52.216.207.5\n",
            "Connecting to s3.amazonaws.com (s3.amazonaws.com)|52.216.207.5|:443... connected.\n",
            "HTTP request sent, awaiting response... 200 OK\n",
            "Length: 1647046227 (1.5G) [application/x-gzip]\n",
            "Saving to: ‘/root/input/GoogleNews-vectors-negative300.bin.gz’\n",
            "\n",
            "GoogleNews-vectors- 100%[===================>]   1.53G  88.6MB/s    in 20s     \n",
            "\n",
            "2020-12-26 02:39:45 (80.0 MB/s) - ‘/root/input/GoogleNews-vectors-negative300.bin.gz’ saved [1647046227/1647046227]\n",
            "\n"
          ],
          "name": "stdout"
        }
      ]
    },
    {
      "cell_type": "code",
      "metadata": {
        "colab": {
          "base_uri": "https://localhost:8080/"
        },
        "id": "czHkvSQQ6j6n",
        "outputId": "7bfb7827-c7dc-42bb-bc42-21c7f66419ca"
      },
      "source": [
        "!pip install gensim\n",
        "!pip install scikit-learn"
      ],
      "execution_count": 5,
      "outputs": [
        {
          "output_type": "stream",
          "text": [
            "Requirement already satisfied: gensim in /usr/local/lib/python3.6/dist-packages (3.6.0)\n",
            "Requirement already satisfied: six>=1.5.0 in /usr/local/lib/python3.6/dist-packages (from gensim) (1.15.0)\n",
            "Requirement already satisfied: smart-open>=1.2.1 in /usr/local/lib/python3.6/dist-packages (from gensim) (4.0.1)\n",
            "Requirement already satisfied: numpy>=1.11.3 in /usr/local/lib/python3.6/dist-packages (from gensim) (1.19.4)\n",
            "Requirement already satisfied: scipy>=0.18.1 in /usr/local/lib/python3.6/dist-packages (from gensim) (1.4.1)\n",
            "Requirement already satisfied: scikit-learn in /usr/local/lib/python3.6/dist-packages (0.22.2.post1)\n",
            "Requirement already satisfied: numpy>=1.11.0 in /usr/local/lib/python3.6/dist-packages (from scikit-learn) (1.19.4)\n",
            "Requirement already satisfied: scipy>=0.17.0 in /usr/local/lib/python3.6/dist-packages (from scikit-learn) (1.4.1)\n",
            "Requirement already satisfied: joblib>=0.11 in /usr/local/lib/python3.6/dist-packages (from scikit-learn) (1.0.0)\n"
          ],
          "name": "stdout"
        }
      ]
    },
    {
      "cell_type": "code",
      "metadata": {
        "colab": {
          "base_uri": "https://localhost:8080/"
        },
        "id": "zOcrar1Q6sUI",
        "outputId": "a99c65fc-3571-4f24-d5db-d3048e2e763e"
      },
      "source": [
        "from gensim.models import KeyedVectors\n",
        "from sklearn.metrics.pairwise import cosine_similarity\n",
        "print('Imported Successfully!')"
      ],
      "execution_count": 6,
      "outputs": [
        {
          "output_type": "stream",
          "text": [
            "Imported Successfully!\n"
          ],
          "name": "stdout"
        }
      ]
    },
    {
      "cell_type": "code",
      "metadata": {
        "colab": {
          "base_uri": "https://localhost:8080/"
        },
        "id": "TJ3E_tSV7pVu",
        "outputId": "eea466cb-f33c-4487-e3cb-48e4d7e79ecd"
      },
      "source": [
        "# Load model. the model was trained on Google News dataset. To create vectors of 300 dimensions\n",
        "word_vectors = KeyedVectors.load_word2vec_format('/root/input/GoogleNews-vectors-negative300.bin.gz', binary=True)\n",
        "# Some queries\n",
        "v_banana = word_vectors['banana']\n",
        "v_mango = word_vectors['mango']\n",
        "cosine_similarity([v_banana], [v_mango])"
      ],
      "execution_count": 7,
      "outputs": [
        {
          "output_type": "execute_result",
          "data": {
            "text/plain": [
              "array([[0.63652116]], dtype=float32)"
            ]
          },
          "metadata": {
            "tags": []
          },
          "execution_count": 7
        }
      ]
    },
    {
      "cell_type": "markdown",
      "metadata": {
        "id": "owFfM9G_-Tl0"
      },
      "source": [
        "## Project 1: Odd Word Picker\n",
        "- pick the odd word from a set of words"
      ]
    },
    {
      "cell_type": "code",
      "metadata": {
        "colab": {
          "base_uri": "https://localhost:8080/"
        },
        "id": "QAjI9uUI-z1g",
        "outputId": "07e462ed-c98f-4378-f02d-7662780e0498"
      },
      "source": [
        "import numpy as np\n",
        "\n",
        "# takes list of strings (plus our word embedding information), and return odds one out\n",
        "def odd_one_out(words, word_vectors):\n",
        "  all_word_vectors = [word_vectors[w] for w in words] # array of our words' embeddings\n",
        "  avg_vector = np.mean(all_word_vectors, axis=0) # a vector of our word embedding's averages for each dimension\n",
        "\n",
        "  # take out the word with lowest similarity with the average\n",
        "  odd_one_out = None\n",
        "  min_sim = 1.0\n",
        "\n",
        "  for w in words:\n",
        "    sim = cosine_similarity([word_vectors[w]], [avg_vector])\n",
        "    if sim < min_sim:\n",
        "      min_sim = sim\n",
        "      odd_one_out = w\n",
        "    \n",
        "  return odd_one_out\n",
        " \n",
        "print('function created')\n"
      ],
      "execution_count": 14,
      "outputs": [
        {
          "output_type": "stream",
          "text": [
            "function created\n"
          ],
          "name": "stdout"
        }
      ]
    },
    {
      "cell_type": "code",
      "metadata": {
        "colab": {
          "base_uri": "https://localhost:8080/"
        },
        "id": "eDhp3L6HBGhR",
        "outputId": "1e84b850-91cc-488d-f787-62e05bab4f11"
      },
      "source": [
        "odd_word = odd_one_out(['apple', 'mango', 'party', 'coconut', 'juice', 'orange'], word_vectors)\n",
        "print('odd one out is ' + odd_word)"
      ],
      "execution_count": 16,
      "outputs": [
        {
          "output_type": "stream",
          "text": [
            "odd one out is party\n"
          ],
          "name": "stdout"
        }
      ]
    },
    {
      "cell_type": "markdown",
      "metadata": {
        "id": "2jU9CHRXB0qQ"
      },
      "source": [
        "## Project 2: Word Analagy System\n",
        "- complete the sentence **A is to B as C is to __**\n",
        "- we are trying to find the word D, such that associated word vector is related in a similar manner (B-A = D-C)\n",
        "\n",
        "Therefore D = B-A+C"
      ]
    },
    {
      "cell_type": "code",
      "metadata": {
        "colab": {
          "base_uri": "https://localhost:8080/"
        },
        "id": "hyjVc53eC5bH",
        "outputId": "f0454a94-0c0f-4009-ae72-25146f4b7e5c"
      },
      "source": [
        "# takes 3 inputs (A, B, C) and the embedding information\n",
        "def word_analogies(A,B,C,word_vectors):\n",
        "  A,B,C = A.lower(), B.lower(), C.lower()\n",
        "\n",
        "  # loop over every word in the vocab and get the max similarity of A-B and C-D (similar distance vector)\n",
        "  # O(vocab words)\n",
        "  max_sim = -100\n",
        "  D = None\n",
        "  words = word_vectors.vocab.keys()\n",
        "  WA, WB, WC = word_vectors[A], word_vectors[B], word_vectors[C]\n",
        "\n",
        "  for w in words:\n",
        "    if w in [A, B, C]:\n",
        "      continue\n",
        "    w_vector = word_vectors[w]\n",
        "    sim = cosine_similarity( [WB-WA], [w_vector - WC] )\n",
        "    if sim > max_sim:\n",
        "      max_sim = sim\n",
        "      D = w\n",
        "  return D\n",
        "\n",
        "print('function created')"
      ],
      "execution_count": 22,
      "outputs": [
        {
          "output_type": "stream",
          "text": [
            "function created\n"
          ],
          "name": "stdout"
        }
      ]
    },
    {
      "cell_type": "code",
      "metadata": {
        "colab": {
          "base_uri": "https://localhost:8080/"
        },
        "id": "KCMB0P4DPWF1",
        "outputId": "f679e0c0-2be3-4acf-d780-dca3805e1ddf"
      },
      "source": [
        "D = word_analogies('Man', 'Woman', 'King', word_vectors)\n",
        "print('A is to B as C is to ' + D)"
      ],
      "execution_count": 23,
      "outputs": [
        {
          "output_type": "stream",
          "text": [
            "A is to B as C is to queen\n"
          ],
          "name": "stdout"
        }
      ]
    },
    {
      "cell_type": "markdown",
      "metadata": {
        "id": "eImeIFJTQRLC"
      },
      "source": [
        "Now rather than O(all vocab) we could do this in O(1) using Gensim's **most_similar(positive, negative)** fumction\n",
        "Since D = B-A+C, B and C is positive, and A is supplied as the negative.\n",
        "We will find the top 1 word in the vocab with most similar to the vector we have "
      ]
    },
    {
      "cell_type": "code",
      "metadata": {
        "colab": {
          "base_uri": "https://localhost:8080/"
        },
        "id": "mRScAeinTC3w",
        "outputId": "86762d6a-c1af-4514-c103-eff42efe5b9f"
      },
      "source": [
        "result = word_vectors.most_similar(positive = ['woman', 'king'], negative = ['man'], topn = 1)\n",
        "print(result)"
      ],
      "execution_count": 25,
      "outputs": [
        {
          "output_type": "stream",
          "text": [
            "[('queen', 0.7118192911148071)]\n"
          ],
          "name": "stdout"
        }
      ]
    },
    {
      "cell_type": "code",
      "metadata": {
        "id": "i5DJGbUOTWT7"
      },
      "source": [
        ""
      ],
      "execution_count": null,
      "outputs": []
    }
  ]
}