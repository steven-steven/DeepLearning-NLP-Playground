{
 "cells": [
  {
   "cell_type": "markdown",
   "metadata": {
    "id": "lzzy-N3dpcOI"
   },
   "source": [
    "# Contents\n",
    "1. load dataset\n",
    "2. some dataset (input) preprocessing\n",
    "3. Create RNN model architecture\n",
    "4. Add embedding layer"
   ]
  },
  {
   "cell_type": "markdown",
   "metadata": {
    "id": "M_qlQmw_cI53"
   },
   "source": [
    "## Load dataset\n",
    "- Load only the top 10000 frequent words.\n",
    "- will refer to the (x and y train), (x and y test)\n",
    "\n",
    "Reference for loading data: https://www.tensorflow.org/api_docs/python/tf/keras/datasets/imdb/load_data"
   ]
  },
  {
   "cell_type": "code",
   "execution_count": 1,
   "metadata": {
    "colab": {
     "base_uri": "https://localhost:8080/"
    },
    "id": "IllYpjSFXyXv",
    "outputId": "7260fd3c-d051-4f31-96d0-6c9422af90e6"
   },
   "outputs": [
    {
     "name": "stdout",
     "output_type": "stream",
     "text": [
      "Downloading data from https://storage.googleapis.com/tensorflow/tf-keras-datasets/imdb.npz\n",
      "17465344/17464789 [==============================] - 0s 0us/step\n"
     ]
    },
    {
     "name": "stderr",
     "output_type": "stream",
     "text": [
      "<string>:6: VisibleDeprecationWarning: Creating an ndarray from ragged nested sequences (which is a list-or-tuple of lists-or-tuples-or ndarrays with different lengths or shapes) is deprecated. If you meant to do this, you must specify 'dtype=object' when creating the ndarray\n",
      "/usr/local/lib/python3.6/dist-packages/tensorflow/python/keras/datasets/imdb.py:159: VisibleDeprecationWarning: Creating an ndarray from ragged nested sequences (which is a list-or-tuple of lists-or-tuples-or ndarrays with different lengths or shapes) is deprecated. If you meant to do this, you must specify 'dtype=object' when creating the ndarray\n",
      "  x_train, y_train = np.array(xs[:idx]), np.array(labels[:idx])\n"
     ]
    },
    {
     "name": "stdout",
     "output_type": "stream",
     "text": [
      "Dataset Loaded!\n"
     ]
    },
    {
     "name": "stderr",
     "output_type": "stream",
     "text": [
      "/usr/local/lib/python3.6/dist-packages/tensorflow/python/keras/datasets/imdb.py:160: VisibleDeprecationWarning: Creating an ndarray from ragged nested sequences (which is a list-or-tuple of lists-or-tuples-or ndarrays with different lengths or shapes) is deprecated. If you meant to do this, you must specify 'dtype=object' when creating the ndarray\n",
      "  x_test, y_test = np.array(xs[idx:]), np.array(labels[idx:])\n"
     ]
    }
   ],
   "source": [
    "from tensorflow.keras.datasets import imdb\n",
    "\n",
    "((XT, YT), (Xt, Yt)) = imdb.load_data(num_words=10000)\n",
    "\n",
    "print('Dataset Loaded!')"
   ]
  },
  {
   "cell_type": "code",
   "execution_count": 2,
   "metadata": {
    "colab": {
     "base_uri": "https://localhost:8080/"
    },
    "id": "VgrnJOM1X2hS",
    "outputId": "6c3e1fe5-0577-467a-b916-9e847c6840ac"
   },
   "outputs": [
    {
     "name": "stdout",
     "output_type": "stream",
     "text": [
      "The length of the Training dataset is  25000\n",
      "The length of the Testing dataset is  25000\n"
     ]
    }
   ],
   "source": [
    "print('The length of the Training dataset is ', len(XT))\n",
    "print('The length of the Testing dataset is ', len(Xt))"
   ]
  },
  {
   "cell_type": "code",
   "execution_count": 3,
   "metadata": {
    "colab": {
     "base_uri": "https://localhost:8080/"
    },
    "id": "G2lU7SzceoFE",
    "outputId": "bfd1d635-d4c9-435d-e03d-30b17cc64d7f"
   },
   "outputs": [
    {
     "name": "stdout",
     "output_type": "stream",
     "text": [
      "[1, 14, 22, 16, 43, 530, 973, 1622, 1385, 65, 458, 4468, 66, 3941, 4, 173, 36, 256, 5, 25, 100, 43, 838, 112, 50, 670, 2, 9, 35, 480, 284, 5, 150, 4, 172, 112, 167, 2, 336, 385, 39, 4, 172, 4536, 1111, 17, 546, 38, 13, 447, 4, 192, 50, 16, 6, 147, 2025, 19, 14, 22, 4, 1920, 4613, 469, 4, 22, 71, 87, 12, 16, 43, 530, 38, 76, 15, 13, 1247, 4, 22, 17, 515, 17, 12, 16, 626, 18, 2, 5, 62, 386, 12, 8, 316, 8, 106, 5, 4, 2223, 5244, 16, 480, 66, 3785, 33, 4, 130, 12, 16, 38, 619, 5, 25, 124, 51, 36, 135, 48, 25, 1415, 33, 6, 22, 12, 215, 28, 77, 52, 5, 14, 407, 16, 82, 2, 8, 4, 107, 117, 5952, 15, 256, 4, 2, 7, 3766, 5, 723, 36, 71, 43, 530, 476, 26, 400, 317, 46, 7, 4, 2, 1029, 13, 104, 88, 4, 381, 15, 297, 98, 32, 2071, 56, 26, 141, 6, 194, 7486, 18, 4, 226, 22, 21, 134, 476, 26, 480, 5, 144, 30, 5535, 18, 51, 36, 28, 224, 92, 25, 104, 4, 226, 65, 16, 38, 1334, 88, 12, 16, 283, 5, 16, 4472, 113, 103, 32, 15, 16, 5345, 19, 178, 32]\n",
      "218\n"
     ]
    }
   ],
   "source": [
    "# looking at what a single review looks like\n",
    "print(XT[0])\n",
    "print(len(XT[0]))"
   ]
  },
  {
   "cell_type": "markdown",
   "metadata": {
    "id": "BoJmk9Rfg3YW"
   },
   "source": [
    "In the training data, each review is an array of numbers (numeric representation of the words)\n",
    "The first training data is 218 words long"
   ]
  },
  {
   "cell_type": "code",
   "execution_count": 4,
   "metadata": {
    "colab": {
     "base_uri": "https://localhost:8080/"
    },
    "id": "iGtY-iCbharC",
    "outputId": "d778b2a3-60b6-4607-de32-b72b4bda13c3"
   },
   "outputs": [
    {
     "name": "stdout",
     "output_type": "stream",
     "text": [
      "Downloading data from https://storage.googleapis.com/tensorflow/tf-keras-datasets/imdb_word_index.json\n",
      "1646592/1641221 [==============================] - 0s 0us/step\n",
      "? this film was just brilliant casting location scenery story direction everyone's really suited the part they played and you could just imagine being there robert ? is an amazing actor and now the same being director ? father came from the same scottish island as myself so i loved the fact there was a real connection with this film the witty remarks throughout the film were great it was just brilliant so much that i bought the film as soon as it was released for ? and would recommend it to everyone to watch and the fly fishing was amazing really cried at the end it was so sad and you know what they say if you cry at a film it must have been good and this definitely was also ? to the two little boy's that played the ? of norman and paul they were just brilliant children are often left out of the ? list i think because the stars that play them all grown up are such a big profile for the whole film but these children are amazing and should be praised for what they have done don't you think the whole story was so lovely because it was true and was someone's life after all that was shared with us all\n",
      "218\n"
     ]
    }
   ],
   "source": [
    "# Trying to convert the numeric review back to a text review\n",
    "word_idx = imdb.get_word_index() # this method returns map string:index\n",
    "idx_word = dict([value, key] for (key, value) in word_idx.items()) # flip string:idx map to idx:string map.\n",
    "\n",
    "# Go through a review and convert to text. Use idx-3 offset since 0,1,2 are reserved indices for 'padding', 'start of sequence', 'unknown'\n",
    "# print ? if no matching word found in the map.\n",
    "actual_review = ' '.join([idx_word.get(idx-3, '?') for idx in XT[0]])\n",
    "\n",
    "print(actual_review)\n",
    "print(len(actual_review.split()))"
   ]
  },
  {
   "cell_type": "markdown",
   "metadata": {
    "id": "3Xg1v4lOlPmg"
   },
   "source": [
    "## Perform Padding operation\n",
    "- need to pad our data so all reviews are of same length (necessary for good model accuracy)\n",
    "- we will put a max length, which either cuts off or pad 0s\n",
    "- note that we didn't specify _padding = 'post'_. So padding will be in the start. "
   ]
  },
  {
   "cell_type": "code",
   "execution_count": 5,
   "metadata": {
    "colab": {
     "base_uri": "https://localhost:8080/"
    },
    "id": "qP3hI4d3l2lM",
    "outputId": "2ef9529a-e650-47af-ca44-1a628e553417"
   },
   "outputs": [
    {
     "name": "stdout",
     "output_type": "stream",
     "text": [
      "Padding completed!\n"
     ]
    }
   ],
   "source": [
    "from tensorflow.keras.preprocessing import sequence\n",
    "\n",
    "X_train = sequence.pad_sequences(XT, maxlen=500)\n",
    "X_test = sequence.pad_sequences(Xt, maxlen=500)\n",
    "\n",
    "print(\"Padding completed!\")"
   ]
  },
  {
   "cell_type": "code",
   "execution_count": 6,
   "metadata": {
    "colab": {
     "base_uri": "https://localhost:8080/"
    },
    "id": "5OsA2ggLmRu3",
    "outputId": "3c09b390-f045-4d69-9a03-da10f71fa1d6"
   },
   "outputs": [
    {
     "name": "stdout",
     "output_type": "stream",
     "text": [
      "(25000, 500)\n",
      "(25000, 500)\n"
     ]
    }
   ],
   "source": [
    "print(X_test.shape)\n",
    "print(X_train.shape)"
   ]
  },
  {
   "cell_type": "markdown",
   "metadata": {
    "id": "fXTzQ5kznyA8"
   },
   "source": [
    "## Create the RNN model architecture\n",
    "- for now we use a simple RNN (not LSTM)"
   ]
  },
  {
   "cell_type": "code",
   "execution_count": 23,
   "metadata": {
    "colab": {
     "base_uri": "https://localhost:8080/"
    },
    "id": "53yFb_Aop3S6",
    "outputId": "2054b4c7-f234-4b04-a50a-753d46564183"
   },
   "outputs": [
    {
     "name": "stdout",
     "output_type": "stream",
     "text": [
      "Model: \"sequential_1\"\n",
      "_________________________________________________________________\n",
      "Layer (type)                 Output Shape              Param #   \n",
      "=================================================================\n",
      "embedding_1 (Embedding)      (None, None, 64)          640000    \n",
      "_________________________________________________________________\n",
      "simple_rnn_1 (SimpleRNN)     (None, 32)                3104      \n",
      "_________________________________________________________________\n",
      "dense_1 (Dense)              (None, 1)                 33        \n",
      "=================================================================\n",
      "Total params: 643,137\n",
      "Trainable params: 643,137\n",
      "Non-trainable params: 0\n",
      "_________________________________________________________________\n",
      "None\n"
     ]
    }
   ],
   "source": [
    "from tensorflow.keras.layers import Embedding, SimpleRNN, Dense\n",
    "from tensorflow.keras.models import Sequential\n",
    "\n",
    "model = Sequential() # plain stack of layers\n",
    "\n",
    "# Add an embedding layer. 10k vocabulary size. And 64 is the size of our vector (for each word) \n",
    "# embedding layer initialized randomly & trained with model\n",
    "model.add(Embedding(10000, 64))\n",
    "\n",
    "# normally pass powers of 2. Denotes the dimension of output st each time step\n",
    "# note: we'll unroll RNN for 500 time step (since that's the fixed length of our padded input)\n",
    "model.add(SimpleRNN(32))\n",
    "\n",
    "# add full connected layer. Only one output node that tells positive/negative (sigmoid gives 0 to 1)\n",
    "model.add(Dense(1, activation='sigmoid'))\n",
    "\n",
    "print(model.summary())"
   ]
  },
  {
   "cell_type": "code",
   "execution_count": 24,
   "metadata": {
    "colab": {
     "base_uri": "https://localhost:8080/"
    },
    "id": "oEdz_l27zkIc",
    "outputId": "1fe32136-64a8-466c-94e8-6a9c578eaeaf"
   },
   "outputs": [
    {
     "name": "stdout",
     "output_type": "stream",
     "text": [
      "Model Compiled Successfully!\n"
     ]
    }
   ],
   "source": [
    "# compile our model\n",
    "model.compile(optimizer='rmsprop', loss='binary_crossentropy', metrics = ['acc'])\n",
    "\n",
    "print('Model Compiled Successfully!')"
   ]
  },
  {
   "cell_type": "markdown",
   "metadata": {
    "id": "MISaaHHb1OEq"
   },
   "source": [
    "#### Notes about dimensions\n",
    "- our pad_sequences() in preprocessing ensures our input is shape (batch_size, maxLenOfSentences)\n",
    "- embedding layer accepts (batch_size, maxLenOfSentences).\n",
    "- embedding matrix is of size (vocabSize, wordVectorLength). We define to be (10k, 64)\n",
    "- embedding layer outputs (batch_size, maxLenOfSentences, wordVectorLength)\n",
    "\n",
    "#### Notes about compile() param \n",
    "- **rmsprop** optimizer - root mean square error. We could also use **adam** here\n",
    "- **binary_crossentropy** loss function - our problem is a binary classification problem\n",
    "- we want to monitor accuracy"
   ]
  },
  {
   "cell_type": "markdown",
   "metadata": {
    "id": "zpAGEUnF3C_B"
   },
   "source": [
    "### Defining Keras Callbacks to mantain good accuracy over many epochs\n",
    "- ModelCheckpoint - backup our best weights, and only update the model if we get higher acccuracy in that epoch\n",
    "- EarlyStopping- stop training when an improving monitored metric stop improving "
   ]
  },
  {
   "cell_type": "code",
   "execution_count": 25,
   "metadata": {
    "colab": {
     "base_uri": "https://localhost:8080/"
    },
    "id": "RLC9EX7PeAaG",
    "outputId": "fc11bba8-5cc4-49c2-b384-8339324b9630"
   },
   "outputs": [
    {
     "name": "stdout",
     "output_type": "stream",
     "text": [
      "Callbacks Created!\n"
     ]
    }
   ],
   "source": [
    "from tensorflow.keras.callbacks import ModelCheckpoint\n",
    "from tensorflow.keras.callbacks import EarlyStopping\n",
    "\n",
    "# param: name/path of model that this callback will save, metric to monitor (loss), we want to save the the full model not just the weights\n",
    "checkpoint = ModelCheckpoint('best_model.h5', model = 'val_loss', verbose = 0, save_best_only = True, save_weights_only = False)\n",
    "# we want to monitor validation accuracy. If there is no improvement in validatin accuracy after 1 epoch, then training will stop\n",
    "earlystop = EarlyStopping(monitor='val_acc', patience=1)\n",
    "\n",
    "print('Callbacks Created!')"
   ]
  },
  {
   "cell_type": "code",
   "execution_count": 31,
   "metadata": {
    "colab": {
     "base_uri": "https://localhost:8080/"
    },
    "id": "qCa4Tg9WgwIU",
    "outputId": "f9b7dbf2-9102-4645-9a1d-ef6df7752686"
   },
   "outputs": [
    {
     "name": "stdout",
     "output_type": "stream",
     "text": [
      "Epoch 1/10\n",
      "157/157 [==============================] - 32s 203ms/step - loss: 0.2618 - acc: 0.8964 - val_loss: 0.3772 - val_acc: 0.8368\n",
      "Epoch 2/10\n",
      "157/157 [==============================] - 32s 203ms/step - loss: 0.1862 - acc: 0.9305 - val_loss: 0.3540 - val_acc: 0.8684\n",
      "Epoch 3/10\n",
      "157/157 [==============================] - 32s 203ms/step - loss: 0.1388 - acc: 0.9510 - val_loss: 0.4076 - val_acc: 0.8578\n"
     ]
    }
   ],
   "source": [
    "# Now train the data\n",
    "hist = model.fit(X_train, YT, validation_split=0.2, epochs = 10, batch_size = 128, callbacks=[checkpoint, earlystop])"
   ]
  },
  {
   "cell_type": "markdown",
   "metadata": {
    "id": "EDauOwVrhJEo"
   },
   "source": [
    "### Visualize model metrics\n",
    "- plot accuracy (validation accuracy vs training accuracy)\n",
    "- plot loss (validation loss vs training loss)\n",
    "\n",
    "we use the 'hist' obj to get data"
   ]
  },
  {
   "cell_type": "code",
   "execution_count": 32,
   "metadata": {
    "colab": {
     "base_uri": "https://localhost:8080/",
     "height": 280
    },
    "id": "sO5OgvkVjuUl",
    "outputId": "9f4edcbf-4011-42f1-d833-83c3f34c1411"
   },
   "outputs": [
    {
     "data": {
      "image/png": "[encoded data removed]",
      "text/plain": [
       "<Figure size 432x288 with 1 Axes>"
      ]
     },
     "metadata": {
      "needs_background": "light",
      "tags": []
     },
     "output_type": "display_data"
    }
   ],
   "source": [
    "import matplotlib.pyplot as plt\n",
    "\n",
    "acc = hist.history['acc']\n",
    "val_acc = hist.history['val_acc']\n",
    "epochs = range(1, len(acc)+1 )\n",
    "\n",
    "plt.title('Accuracy vs Epochs')\n",
    "plt.plot(epochs, acc, label='Training Acc')\n",
    "plt.plot(epochs, val_acc, label='Val Acc')\n",
    "plt.legend()\n",
    "plt.show()"
   ]
  },
  {
   "cell_type": "code",
   "execution_count": 33,
   "metadata": {
    "colab": {
     "base_uri": "https://localhost:8080/",
     "height": 280
    },
    "id": "coNjnPKMkYnS",
    "outputId": "a87fe2c2-6fae-4047-96d2-4ab164b33177"
   },
   "outputs": [
    {
     "data": {
      "image/png": "[encoded data removed]",
      "text/plain": [
       "<Figure size 432x288 with 1 Axes>"
      ]
     },
     "metadata": {
      "needs_background": "light",
      "tags": []
     },
     "output_type": "display_data"
    }
   ],
   "source": [
    "loss = hist.history['loss']\n",
    "val_loss = hist.history['val_loss']\n",
    "epochs = range(1, len(loss)+1 )\n",
    "\n",
    "plt.title('Loss vs Epochs')\n",
    "plt.plot(epochs, loss, label='Training Loss')\n",
    "plt.plot(epochs, val_loss, label='Val loss')\n",
    "plt.legend()\n",
    "plt.show()"
   ]
  },
  {
   "cell_type": "markdown",
   "metadata": {
    "id": "-Kyc6qPekxPV"
   },
   "source": [
    "## Conclusion\n",
    "- For accuracy graph, an increase in training result in decrease in validation accuracy. Indicating that the model is overfitting\n",
    "\n",
    "### Evaluate Model"
   ]
  },
  {
   "cell_type": "code",
   "execution_count": 34,
   "metadata": {
    "colab": {
     "base_uri": "https://localhost:8080/"
    },
    "id": "UFIez4qglfj6",
    "outputId": "a3e254ac-2a58-4b8f-f51b-e1ff58d6e493"
   },
   "outputs": [
    {
     "name": "stdout",
     "output_type": "stream",
     "text": [
      "782/782 [==============================] - 24s 31ms/step - loss: 0.4119 - acc: 0.8564\n"
     ]
    },
    {
     "data": {
      "text/plain": [
       "[0.4118748903274536, 0.856440007686615]"
      ]
     },
     "execution_count": 34,
     "metadata": {
      "tags": []
     },
     "output_type": "execute_result"
    }
   ],
   "source": [
    "model.evaluate(X_test, Yt)"
   ]
  },
  {
   "cell_type": "code",
   "execution_count": null,
   "metadata": {
    "id": "_FvSeSDyljRx"
   },
   "outputs": [],
   "source": [
    ""
   ]
  }
 ],
 "metadata": {
  "colab": {
   "name": "ReviewSentimentAnalysis.ipynb",
   "provenance": []
  },
  "kernelspec": {
   "display_name": "Python 3",
   "name": "python3"
  }
 },
 "nbformat": 4,
 "nbformat_minor": 0
}
