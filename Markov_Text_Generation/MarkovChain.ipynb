{
 "cells": [
  {
   "cell_type": "markdown",
   "metadata": {},
   "source": [
    "# Markov chain for text generation\n",
    "- generate lookup table. X is every length 3 substing and we predict Y (the next character). For each X/Y pair we collected from our Corpus, we have a frequency\n",
    "- convert frequencies into probability\n",
    "- this algorithm is used to solve **temporal probabilistic reasoning**"
   ]
  },
  {
   "cell_type": "code",
   "execution_count": 3,
   "metadata": {},
   "outputs": [
    {
     "name": "stdout",
     "output_type": "stream",
     "text": [
      "{'is i': {'s': 1}, 'corp': {'u': 1}, 's is': {' ': 1}, 'a co': {'r': 1}, ' is ': {'a': 1}, 'orpu': {'s': 1}, 's a ': {'c': 1}, 'his ': {'i': 1}, ' cor': {'p': 1}, 'this': {' ': 1}, ' a c': {'o': 1}, 'is a': {' ': 1}}\n"
     ]
    }
   ],
   "source": [
    "def generateTable(data, k=4):\n",
    "    T = {}\n",
    "    for i in range(len(data)-k):\n",
    "        X = data[i: i+k]\n",
    "        Y = data[i+k]\n",
    "        \n",
    "        if T.get(X) is None:\n",
    "            T[X] = {}\n",
    "            T[X][Y] = 1\n",
    "        else:\n",
    "            if T[X].get(Y) is None:\n",
    "                T[X][Y] = 1\n",
    "            else:\n",
    "                T[X][Y] += 1\n",
    "                \n",
    "    return T;\n",
    "\n",
    "T = generateTable(\"this is a corpus\")\n",
    "print(T)\n",
    "\n",
    "# X is last K letters | Y is the predicted letters | frequency of X Y pair from our corpus"
   ]
  },
  {
   "cell_type": "code",
   "execution_count": 11,
   "metadata": {},
   "outputs": [
    {
     "name": "stdout",
     "output_type": "stream",
     "text": [
      "{'is i': {'s': 1.0}, 'corp': {'u': 1.0}, 's is': {' ': 1.0}, 'a co': {'r': 1.0}, ' is ': {'a': 1.0}, 'orpu': {'s': 1.0}, 's a ': {'c': 1.0}, 'his ': {'i': 1.0}, ' cor': {'p': 1.0}, 'this': {' ': 1.0}, ' a c': {'o': 1.0}, 'is a': {' ': 1.0}}\n"
     ]
    }
   ],
   "source": [
    "# traansform the freq column values to a probability (pbb of y given a x state)\n",
    "def convertFreqIntoProb(T):\n",
    "    for kx in T.keys():\n",
    "        s = float(sum(T[kx].values())) # sum all of the frequencies for that X state\n",
    "        for k in T[kx].keys():\n",
    "            T[kx][k] = T[kx][k]/s # this freq over the sum\n",
    "    return T\n",
    "\n",
    "T = convertFreqIntoProd(T)\n",
    "print(T)"
   ]
  },
  {
   "cell_type": "markdown",
   "metadata": {},
   "source": [
    "## Load dataset\n",
    "- corpus is a speech of India's Prime Minister"
   ]
  },
  {
   "cell_type": "code",
   "execution_count": 6,
   "metadata": {},
   "outputs": [
    {
     "name": "stdout",
     "output_type": "stream",
     "text": [
      "Loaded the dataset\n",
      "my dear countrymen,\n",
      "\n",
      "many of you wish many-many good wishes of the holy festival of independence.\n",
      "\n",
      "today the country is full of confidence. the country is crossing the new heights by plowing the resolve of dreams with hard work. today's sunrise has brought a new consciousness, new excitement, new excitement, new energy.\n",
      "\n",
      "our lovely countrymen, once in 12 years, flowers of nilakurinya grow in our country. this year, on the hills of nilgiris in the south, it is like our nilkurinji flower like the ashok chakra of the tricolor flag, in the festival of freedom of the country.\n",
      "\n",
      "my dear countrymen, we are celebrating this festival of independence, when our daughters uttarakhand, himachal, manipur, telangana, andhra pradesh - our daughters of these states crossed seven seas and coloring the seven seas with a color of tricolor came back\n",
      "\n",
      "my dear countrymen, we are celebrating the festival of independence at that time, when everest triumphs were so many, many of our heroes, many of our daughters went to the everest and hoisted the tricolor flag. but in the celebration of this freedom, i will remember that the tribal children living in far-off jungles have increased the glory of the tricolor flag by hoisting the tricolor flag on everest.\n",
      "\n",
      "\n",
      "my dear countrymen, the sessions of the lok sabha and rajya sabha have just been fulfilled. you must have seen that the house ran very well and in a sense this session of parliament was entirely devoted to social justice. to protect their rights, our parliament made social justice more forceful with sensitivity and awareness, to be oppressed, oppressed, exploited, deprived, women, to protect their rights.\n",
      "\n",
      "the obc commission was demanding for a constitutional place for years. this time parliament has tried to protect their rights by giving a constitutional order to backward, backward, by giving constitutional status to that commission.\n",
      "\n",
      "we are celebrating the festival of independence at that time, when those news in our country brought new consciousness to the country, with whom every indian who is not in any corner of the world, today is proud of the fact that india has registered its name in the world's sixth largest economy. in such a positive environment, among the series of positive events we are celebrating the festival of independence today.\n",
      "\n",
      "in order to give freedom to the country, millions of people spent their lives in the jubilee prisons under the leadership of pujya bapu. many revolutionary great men hanged on the hanging frames and kissed the hanging for the country's independence. i heartily greet these brave fighters of independence from the countrymen today, i bow my heart to the eternal glory of the tricolor, inspiring us to live and die, the tricolor of for the sake of the army of the army of the country, our soldiers sacrifice their lives, our paramilitary forces spend life, the soldiers of our police force, in the service of the country day and night to protect the common man. live gay\n",
      "\n",
      "i bow down to the ranks of the red fort in the evidence of the tricolor flag today for all the soldiers of the army, the paramilitary forces, the police personnel, for their great service, for their sacrifice and happiness, for their power and happiness. i am very happy and give them a lot of luck.\n",
      "\n",
      "these days, reports of good rainfall are coming from different corners of the country, along with flood reports are coming along. those families who have lost their loved ones due to overcrowding and floods, who have suffered difficulties, have been standing in their help with the full power of the country and those who have lost their lives, i am involved in their misery.\n",
      "\n",
      "my dear countrymen, the next baisakhi is going to be a hundred years of massacres of our jalianwala bagh. how ordinary people of the country had betrayed life for the country's independence and how long had the boundaries of oppression passed? jalianwala bagh gives the message of sacrifice and sacrifice of those heroes of our country. i heartily respect all those heroes.\n"
     ]
    }
   ],
   "source": [
    "text_path = 'train_corpus.txt'\n",
    "def load_text(filename):\n",
    "    with open(filename, encoding = 'utf8') as f:\n",
    "        return f.read().lower()\n",
    "    \n",
    "text = load_text(text_path)\n",
    "print('Loaded the dataset')\n",
    "print(text)"
   ]
  },
  {
   "cell_type": "markdown",
   "metadata": {},
   "source": [
    "## Build the Markov chain model\n",
    "- the model takes the corpus and generate a probability table"
   ]
  },
  {
   "cell_type": "code",
   "execution_count": 12,
   "metadata": {},
   "outputs": [
    {
     "name": "stdout",
     "output_type": "stream",
     "text": [
      "successfully created model\n"
     ]
    }
   ],
   "source": [
    "def MarkovChain(text, k=4):\n",
    "    T = generateTable(text, k)\n",
    "    T = convertFreqIntoProb(T)\n",
    "    return T\n",
    "\n",
    "model = MarkovChain(text)\n",
    "print('successfully created model')"
   ]
  },
  {
   "cell_type": "code",
   "execution_count": 20,
   "metadata": {},
   "outputs": [
    {
     "data": {
      "text/plain": [
       "'n'"
      ]
     },
     "execution_count": 20,
     "metadata": {},
     "output_type": "execute_result"
    }
   ],
   "source": [
    "import numpy as np\n",
    "def sample_next(ctx, model, k):\n",
    "    # ctx has the current string\n",
    "    ctx = ctx[-k:] # get last k characters\n",
    "    if model.get(ctx) is None:\n",
    "        return ' '\n",
    "    possible_chars = list(model[ctx].keys()) # list of all possible results y\n",
    "    possible_values = list(model[ctx].values()) # list of probabilities for y\n",
    "    \n",
    "    # print(possible_chars)\n",
    "    # print(possible_values)\n",
    "    return np.random.choice(possible_chars, p = possible_values)\n",
    "\n",
    "sample_next('commo', model, 4)"
   ]
  },
  {
   "cell_type": "code",
   "execution_count": 21,
   "metadata": {},
   "outputs": [
    {
     "name": "stdout",
     "output_type": "stream",
     "text": [
      "function created successfully\n"
     ]
    }
   ],
   "source": [
    "def generateText(starting_sent, k = 4, maxLen = 1000):\n",
    "    sentence = starting_sent\n",
    "    ctx = starting_sent[-k:]\n",
    "    # for many iterations (how many characters we want to add)\n",
    "    for ix in range(maxLen):\n",
    "        # sample new character, and set ctx to the new last k characters\n",
    "        next_prediction = sample_next(ctx, model, k)\n",
    "        sentence += next_prediction\n",
    "        ctx = sentence[-k:]\n",
    "    return sentence\n",
    "\n",
    "print('function created successfully')"
   ]
  },
  {
   "cell_type": "code",
   "execution_count": 22,
   "metadata": {},
   "outputs": [
    {
     "name": "stdout",
     "output_type": "stream",
     "text": [
      "dear country happy and awareness. i heartily great men to the boundaries of independ life for the festival order the tricolor flag. but independence, when their lives the glory of the ranks of our lovely \n"
     ]
    }
   ],
   "source": [
    "text = generateText('dear', k=4, maxLen=200)\n",
    "print(text)"
   ]
  },
  {
   "cell_type": "markdown",
   "metadata": {},
   "source": [
    "## Conclusion\n",
    "Note that the text don't have a good context. We only use the syntactic infos to build the model. \n",
    "Use **LSTM** based model to get more understandable text (long short-term memory)"
   ]
  },
  {
   "cell_type": "code",
   "execution_count": null,
   "metadata": {},
   "outputs": [],
   "source": []
  }
 ],
 "metadata": {
  "kernelspec": {
   "display_name": "Python 3",
   "language": "python",
   "name": "python3"
  },
  "language_info": {
   "codemirror_mode": {
    "name": "ipython",
    "version": 3
   },
   "file_extension": ".py",
   "mimetype": "text/x-python",
   "name": "python",
   "nbconvert_exporter": "python",
   "pygments_lexer": "ipython3",
   "version": "3.5.6"
  }
 },
 "nbformat": 4,
 "nbformat_minor": 4
}
